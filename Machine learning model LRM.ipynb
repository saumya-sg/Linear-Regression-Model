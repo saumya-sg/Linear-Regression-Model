{
 "cells": [
  {
   "cell_type": "code",
   "execution_count": null,
   "id": "083909e8-3209-4a15-8c6e-1d0efe983acc",
   "metadata": {},
   "outputs": [],
   "source": [
    "# Task : To predict the Dissolved Oygen using Linear Regression Model"
   ]
  },
  {
   "cell_type": "code",
   "execution_count": 195,
   "id": "22c8f356-e879-46fb-a9db-65d203f3aff8",
   "metadata": {},
   "outputs": [],
   "source": [
    "# importing necessary libraries\n",
    "import pandas as pd\n",
    "import matplotlib.pyplot as plt\n",
    "import seaborn as sns \n",
    "import random as rnd\n",
    "from sklearn import datasets\n",
    "from sklearn import linear_model\n",
    "from sklearn import preprocessing\n",
    "from sklearn.model_selection import train_test_split\n",
    "from sklearn.feature_selection import RFE"
   ]
  },
  {
   "cell_type": "code",
   "execution_count": 196,
   "id": "23768d64-d772-41ad-8d42-639a0675092c",
   "metadata": {},
   "outputs": [],
   "source": [
    "# Read the data from csv file\n",
    "df=pd.read_csv('Raw data.csv')"
   ]
  },
  {
   "cell_type": "code",
   "execution_count": 197,
   "id": "68caf4c5-914b-4085-a33c-727baa25b26d",
   "metadata": {},
   "outputs": [
    {
     "data": {
      "text/html": [
       "<div>\n",
       "<style scoped>\n",
       "    .dataframe tbody tr th:only-of-type {\n",
       "        vertical-align: middle;\n",
       "    }\n",
       "\n",
       "    .dataframe tbody tr th {\n",
       "        vertical-align: top;\n",
       "    }\n",
       "\n",
       "    .dataframe thead th {\n",
       "        text-align: right;\n",
       "    }\n",
       "</style>\n",
       "<table border=\"1\" class=\"dataframe\">\n",
       "  <thead>\n",
       "    <tr style=\"text-align: right;\">\n",
       "      <th></th>\n",
       "      <th>Time</th>\n",
       "      <th>Devicename</th>\n",
       "      <th>Temperature</th>\n",
       "      <th>TDS</th>\n",
       "      <th>PH</th>\n",
       "      <th>DO</th>\n",
       "    </tr>\n",
       "  </thead>\n",
       "  <tbody>\n",
       "    <tr>\n",
       "      <th>0</th>\n",
       "      <td>Wed Jul 07 2021 14:15:09 GMT+0530 (India Stand...</td>\n",
       "      <td>867378035207325</td>\n",
       "      <td>29.0625</td>\n",
       "      <td>0.0</td>\n",
       "      <td>13.61598</td>\n",
       "      <td>9.91</td>\n",
       "    </tr>\n",
       "    <tr>\n",
       "      <th>1</th>\n",
       "      <td>Wed Jul 07 2021 14:16:14 GMT+0530 (India Stand...</td>\n",
       "      <td>867378035207325</td>\n",
       "      <td>29.0625</td>\n",
       "      <td>0.0</td>\n",
       "      <td>13.12313</td>\n",
       "      <td>9.90</td>\n",
       "    </tr>\n",
       "    <tr>\n",
       "      <th>2</th>\n",
       "      <td>Wed Jul 07 2021 14:17:18 GMT+0530 (India Stand...</td>\n",
       "      <td>867378035207325</td>\n",
       "      <td>29.0000</td>\n",
       "      <td>0.0</td>\n",
       "      <td>13.55723</td>\n",
       "      <td>9.90</td>\n",
       "    </tr>\n",
       "    <tr>\n",
       "      <th>3</th>\n",
       "      <td>Wed Jul 07 2021 14:18:23 GMT+0530 (India Stand...</td>\n",
       "      <td>867378035207325</td>\n",
       "      <td>29.0625</td>\n",
       "      <td>0.0</td>\n",
       "      <td>14.00000</td>\n",
       "      <td>9.90</td>\n",
       "    </tr>\n",
       "    <tr>\n",
       "      <th>4</th>\n",
       "      <td>Wed Jul 07 2021 14:19:28 GMT+0530 (India Stand...</td>\n",
       "      <td>867378035207325</td>\n",
       "      <td>29.0625</td>\n",
       "      <td>0.0</td>\n",
       "      <td>14.00000</td>\n",
       "      <td>9.90</td>\n",
       "    </tr>\n",
       "  </tbody>\n",
       "</table>\n",
       "</div>"
      ],
      "text/plain": [
       "                                                Time       Devicename  \\\n",
       "0  Wed Jul 07 2021 14:15:09 GMT+0530 (India Stand...  867378035207325   \n",
       "1  Wed Jul 07 2021 14:16:14 GMT+0530 (India Stand...  867378035207325   \n",
       "2  Wed Jul 07 2021 14:17:18 GMT+0530 (India Stand...  867378035207325   \n",
       "3  Wed Jul 07 2021 14:18:23 GMT+0530 (India Stand...  867378035207325   \n",
       "4  Wed Jul 07 2021 14:19:28 GMT+0530 (India Stand...  867378035207325   \n",
       "\n",
       "   Temperature  TDS        PH    DO  \n",
       "0      29.0625  0.0  13.61598  9.91  \n",
       "1      29.0625  0.0  13.12313  9.90  \n",
       "2      29.0000  0.0  13.55723  9.90  \n",
       "3      29.0625  0.0  14.00000  9.90  \n",
       "4      29.0625  0.0  14.00000  9.90  "
      ]
     },
     "execution_count": 197,
     "metadata": {},
     "output_type": "execute_result"
    }
   ],
   "source": [
    "# printing the first five entries of a given dataset\n",
    "df.head()"
   ]
  },
  {
   "cell_type": "code",
   "execution_count": 198,
   "id": "b5caa7fe-73e8-41d1-b5b2-0efa62648da8",
   "metadata": {},
   "outputs": [
    {
     "data": {
      "text/html": [
       "<div>\n",
       "<style scoped>\n",
       "    .dataframe tbody tr th:only-of-type {\n",
       "        vertical-align: middle;\n",
       "    }\n",
       "\n",
       "    .dataframe tbody tr th {\n",
       "        vertical-align: top;\n",
       "    }\n",
       "\n",
       "    .dataframe thead th {\n",
       "        text-align: right;\n",
       "    }\n",
       "</style>\n",
       "<table border=\"1\" class=\"dataframe\">\n",
       "  <thead>\n",
       "    <tr style=\"text-align: right;\">\n",
       "      <th></th>\n",
       "      <th>Temperature</th>\n",
       "      <th>TDS</th>\n",
       "      <th>PH</th>\n",
       "      <th>DO</th>\n",
       "    </tr>\n",
       "  </thead>\n",
       "  <tbody>\n",
       "    <tr>\n",
       "      <th>0</th>\n",
       "      <td>29.0625</td>\n",
       "      <td>0.0</td>\n",
       "      <td>13.61598</td>\n",
       "      <td>9.91</td>\n",
       "    </tr>\n",
       "    <tr>\n",
       "      <th>1</th>\n",
       "      <td>29.0625</td>\n",
       "      <td>0.0</td>\n",
       "      <td>13.12313</td>\n",
       "      <td>9.90</td>\n",
       "    </tr>\n",
       "    <tr>\n",
       "      <th>2</th>\n",
       "      <td>29.0000</td>\n",
       "      <td>0.0</td>\n",
       "      <td>13.55723</td>\n",
       "      <td>9.90</td>\n",
       "    </tr>\n",
       "    <tr>\n",
       "      <th>3</th>\n",
       "      <td>29.0625</td>\n",
       "      <td>0.0</td>\n",
       "      <td>14.00000</td>\n",
       "      <td>9.90</td>\n",
       "    </tr>\n",
       "    <tr>\n",
       "      <th>4</th>\n",
       "      <td>29.0625</td>\n",
       "      <td>0.0</td>\n",
       "      <td>14.00000</td>\n",
       "      <td>9.90</td>\n",
       "    </tr>\n",
       "  </tbody>\n",
       "</table>\n",
       "</div>"
      ],
      "text/plain": [
       "   Temperature  TDS        PH    DO\n",
       "0      29.0625  0.0  13.61598  9.91\n",
       "1      29.0625  0.0  13.12313  9.90\n",
       "2      29.0000  0.0  13.55723  9.90\n",
       "3      29.0625  0.0  14.00000  9.90\n",
       "4      29.0625  0.0  14.00000  9.90"
      ]
     },
     "execution_count": 198,
     "metadata": {},
     "output_type": "execute_result"
    }
   ],
   "source": [
    "#Define the target y and non-target,learning variables[x] then removing non-numeric fields ['Time' & 'Devicename']\n",
    "df = df.drop(['Time','Devicename'],axis=1)\n",
    "x = df.drop(\"DO\",axis=1)\n",
    "y = df[\"DO\"]\n",
    "df.head()"
   ]
  },
  {
   "cell_type": "code",
   "execution_count": 199,
   "id": "5a3ae837-2b1a-456e-ace5-002f2473527a",
   "metadata": {},
   "outputs": [
    {
     "data": {
      "text/plain": [
       "<AxesSubplot:ylabel='Frequency'>"
      ]
     },
     "execution_count": 199,
     "metadata": {},
     "output_type": "execute_result"
    },
    {
     "data": {
      "image/png": "[encoded data removed]",
      "text/plain": [
       "<Figure size 720x360 with 1 Axes>"
      ]
     },
     "metadata": {
      "needs_background": "light"
     },
     "output_type": "display_data"
    }
   ],
   "source": [
    "# Plot histogram of target/dependant variable (DO) to see distribution\n",
    "plt.figure(figsize=(10,5))\n",
    "df['DO'].plot(kind=\"hist\")"
   ]
  },
  {
   "cell_type": "code",
   "execution_count": 200,
   "id": "7cc815ae-e4b7-45cf-b0a6-35df5b4d34f3",
   "metadata": {},
   "outputs": [
    {
     "data": {
      "text/plain": [
       "<AxesSubplot:>"
      ]
     },
     "execution_count": 200,
     "metadata": {},
     "output_type": "execute_result"
    },
    {
     "data": {
      "image/png": "[encoded data removed]",
      "text/plain": [
       "<Figure size 648x576 with 2 Axes>"
      ]
     },
     "metadata": {
      "needs_background": "light"
     },
     "output_type": "display_data"
    }
   ],
   "source": [
    "# Using Pearson Correlation {corr() function} plot all correlations (positive (0.5-1.0) and negative (-0.5--1.0))\n",
    "plt.figure(figsize=(9,8))\n",
    "cor=df.corr()\n",
    "sns.heatmap(cor,annot=True)"
   ]
  },
  {
   "cell_type": "code",
   "execution_count": 201,
   "id": "25df3d43-f4be-40f6-a324-ae297737812f",
   "metadata": {},
   "outputs": [
    {
     "data": {
      "text/plain": [
       "Temperature    0.669232\n",
       "PH             0.702880\n",
       "DO             1.000000\n",
       "Name: DO, dtype: float64"
      ]
     },
     "execution_count": 201,
     "metadata": {},
     "output_type": "execute_result"
    }
   ],
   "source": [
    "# Identifying positive correlation with target variable i.e., DO \n",
    "target_corr=abs(cor[\"DO\"])# DO is a target variable\n",
    "positive_corr_target=target_corr[target_corr>(0.5)]\n",
    "positive_corr_target"
   ]
  },
  {
   "cell_type": "code",
   "execution_count": 202,
   "id": "2a41cf78-946f-4bed-9409-0fd277e4fd70",
   "metadata": {},
   "outputs": [
    {
     "name": "stdout",
     "output_type": "stream",
     "text": [
      "             Temperature        PH\n",
      "Temperature     1.000000  0.650587\n",
      "PH              0.650587  1.000000\n"
     ]
    }
   ],
   "source": [
    "# Detremining correlation between these fields Temperature and PH\n",
    "print(df[[\"Temperature\",\"PH\"]].corr())"
   ]
  },
  {
   "cell_type": "code",
   "execution_count": 203,
   "id": "7869b4e9-3580-4b4e-8b66-cd67953cda1b",
   "metadata": {},
   "outputs": [
    {
     "data": {
      "text/html": [
       "<div>\n",
       "<style scoped>\n",
       "    .dataframe tbody tr th:only-of-type {\n",
       "        vertical-align: middle;\n",
       "    }\n",
       "\n",
       "    .dataframe tbody tr th {\n",
       "        vertical-align: top;\n",
       "    }\n",
       "\n",
       "    .dataframe thead th {\n",
       "        text-align: right;\n",
       "    }\n",
       "</style>\n",
       "<table border=\"1\" class=\"dataframe\">\n",
       "  <thead>\n",
       "    <tr style=\"text-align: right;\">\n",
       "      <th></th>\n",
       "      <th>Temperature</th>\n",
       "      <th>PH</th>\n",
       "      <th>DO</th>\n",
       "    </tr>\n",
       "  </thead>\n",
       "  <tbody>\n",
       "    <tr>\n",
       "      <th>0</th>\n",
       "      <td>29.0625</td>\n",
       "      <td>13.61598</td>\n",
       "      <td>9.91</td>\n",
       "    </tr>\n",
       "    <tr>\n",
       "      <th>1</th>\n",
       "      <td>29.0625</td>\n",
       "      <td>13.12313</td>\n",
       "      <td>9.90</td>\n",
       "    </tr>\n",
       "    <tr>\n",
       "      <th>2</th>\n",
       "      <td>29.0000</td>\n",
       "      <td>13.55723</td>\n",
       "      <td>9.90</td>\n",
       "    </tr>\n",
       "    <tr>\n",
       "      <th>3</th>\n",
       "      <td>29.0625</td>\n",
       "      <td>14.00000</td>\n",
       "      <td>9.90</td>\n",
       "    </tr>\n",
       "    <tr>\n",
       "      <th>4</th>\n",
       "      <td>29.0625</td>\n",
       "      <td>14.00000</td>\n",
       "      <td>9.90</td>\n",
       "    </tr>\n",
       "  </tbody>\n",
       "</table>\n",
       "</div>"
      ],
      "text/plain": [
       "   Temperature        PH    DO\n",
       "0      29.0625  13.61598  9.91\n",
       "1      29.0625  13.12313  9.90\n",
       "2      29.0000  13.55723  9.90\n",
       "3      29.0625  14.00000  9.90\n",
       "4      29.0625  14.00000  9.90"
      ]
     },
     "execution_count": 203,
     "metadata": {},
     "output_type": "execute_result"
    }
   ],
   "source": [
    "# Drop unneceassary columns (TDS low correlation) and keep PH, DO and Temperature\n",
    "df=df.drop([\"TDS\"],axis=1)\n",
    "df.head()"
   ]
  },
  {
   "cell_type": "code",
   "execution_count": 204,
   "id": "22fc89dd-b0ae-43d2-8025-a6feb87e97fb",
   "metadata": {},
   "outputs": [
    {
     "name": "stdout",
     "output_type": "stream",
     "text": [
      "(862, 3) (862,)\n",
      "(288, 3) (288,)\n"
     ]
    }
   ],
   "source": [
    "#Create test and train variables using test_train_split from sklearn library\n",
    "x_train,x_test,y_train,y_test=train_test_split(df,y,test_size=0.25)#test size is 25% of data train is 75%\n",
    "print(x_train.shape,y_train.shape)#862 members in test\n",
    "print(x_test.shape,y_test.shape)#288 members in test"
   ]
  },
  {
   "cell_type": "code",
   "execution_count": 205,
   "id": "aece0b0d-5131-49f5-bbe6-1e83893bbf12",
   "metadata": {},
   "outputs": [],
   "source": [
    "#Fitting the Linear Regression model - as all columns are numeric\n",
    "lrm=linear_model.LinearRegression()\n",
    "lrm_model=lrm.fit(x_train,y_train)\n",
    "lrm_predictions=lrm.predict(x_test)"
   ]
  },
  {
   "cell_type": "code",
   "execution_count": 206,
   "id": "eb4a87c5-02e2-4eb0-81b0-f9aced6b6242",
   "metadata": {},
   "outputs": [
    {
     "data": {
      "text/plain": [
       "array([2.65, 1.73, 2.27, 2.04, 3.78, 6.1 , 3.37, 3.24, 1.67, 3.31])"
      ]
     },
     "execution_count": 206,
     "metadata": {},
     "output_type": "execute_result"
    }
   ],
   "source": [
    "lrm_predictions[0:10]"
   ]
  },
  {
   "cell_type": "code",
   "execution_count": 207,
   "id": "83296dfa-e514-4da7-b105-cbbb7a450865",
   "metadata": {},
   "outputs": [
    {
     "data": {
      "text/plain": [
       "Text(0, 0.5, 'Predicted Values')"
      ]
     },
     "execution_count": 207,
     "metadata": {},
     "output_type": "execute_result"
    },
    {
     "data": {
      "image/png": "[encoded data removed]",
      "text/plain": [
       "<Figure size 432x288 with 1 Axes>"
      ]
     },
     "metadata": {
      "needs_background": "light"
     },
     "output_type": "display_data"
    }
   ],
   "source": [
    "#Plot the predictions with a scatter plot\n",
    "plt.scatter(y_test,lrm_predictions)\n",
    "plt.title(\"Predcited v/s Actual Values\")\n",
    "plt.xlabel(\"Actual Values\")\n",
    "plt.ylabel(\"Predicted Values\")"
   ]
  },
  {
   "cell_type": "code",
   "execution_count": 208,
   "id": "f8a66abc-b122-41c4-8035-09ae59e3c10b",
   "metadata": {},
   "outputs": [
    {
     "name": "stdout",
     "output_type": "stream",
     "text": [
      "Score: 1.0\n"
     ]
    }
   ],
   "source": [
    "print('Score:',lrm_model.score(x_test,y_test))"
   ]
  },
  {
   "cell_type": "code",
   "execution_count": 209,
   "id": "d2687a1a-a9d1-4acb-a32f-33ec93043304",
   "metadata": {},
   "outputs": [],
   "source": [
    "#Add the predictions , actuals , predictors (non-dependant variables) into a single dataframe for comparison\n",
    "df2=pd.DataFrame(x_test)\n",
    "df2['DO Actuals']=y_test\n",
    "df2['DO Predictions']=lrm_predictions"
   ]
  },
  {
   "cell_type": "code",
   "execution_count": 210,
   "id": "6561358f-cb13-4e6e-9bc9-0a4a42e4af5d",
   "metadata": {},
   "outputs": [
    {
     "data": {
      "text/html": [
       "<div>\n",
       "<style scoped>\n",
       "    .dataframe tbody tr th:only-of-type {\n",
       "        vertical-align: middle;\n",
       "    }\n",
       "\n",
       "    .dataframe tbody tr th {\n",
       "        vertical-align: top;\n",
       "    }\n",
       "\n",
       "    .dataframe thead th {\n",
       "        text-align: right;\n",
       "    }\n",
       "</style>\n",
       "<table border=\"1\" class=\"dataframe\">\n",
       "  <thead>\n",
       "    <tr style=\"text-align: right;\">\n",
       "      <th></th>\n",
       "      <th>Temperature</th>\n",
       "      <th>PH</th>\n",
       "      <th>DO</th>\n",
       "      <th>DO Actuals</th>\n",
       "      <th>DO Predictions</th>\n",
       "    </tr>\n",
       "  </thead>\n",
       "  <tbody>\n",
       "    <tr>\n",
       "      <th>202</th>\n",
       "      <td>25.8125</td>\n",
       "      <td>5.377826</td>\n",
       "      <td>2.65</td>\n",
       "      <td>2.65</td>\n",
       "      <td>2.65</td>\n",
       "    </tr>\n",
       "    <tr>\n",
       "      <th>812</th>\n",
       "      <td>26.1250</td>\n",
       "      <td>5.325606</td>\n",
       "      <td>1.73</td>\n",
       "      <td>1.73</td>\n",
       "      <td>1.73</td>\n",
       "    </tr>\n",
       "    <tr>\n",
       "      <th>221</th>\n",
       "      <td>25.8125</td>\n",
       "      <td>5.270116</td>\n",
       "      <td>2.27</td>\n",
       "      <td>2.27</td>\n",
       "      <td>2.27</td>\n",
       "    </tr>\n",
       "    <tr>\n",
       "      <th>805</th>\n",
       "      <td>26.1875</td>\n",
       "      <td>5.260324</td>\n",
       "      <td>2.04</td>\n",
       "      <td>2.04</td>\n",
       "      <td>2.04</td>\n",
       "    </tr>\n",
       "    <tr>\n",
       "      <th>966</th>\n",
       "      <td>25.0625</td>\n",
       "      <td>5.416993</td>\n",
       "      <td>3.78</td>\n",
       "      <td>3.78</td>\n",
       "      <td>3.78</td>\n",
       "    </tr>\n",
       "  </tbody>\n",
       "</table>\n",
       "</div>"
      ],
      "text/plain": [
       "     Temperature        PH    DO  DO Actuals  DO Predictions\n",
       "202      25.8125  5.377826  2.65        2.65            2.65\n",
       "812      26.1250  5.325606  1.73        1.73            1.73\n",
       "221      25.8125  5.270116  2.27        2.27            2.27\n",
       "805      26.1875  5.260324  2.04        2.04            2.04\n",
       "966      25.0625  5.416993  3.78        3.78            3.78"
      ]
     },
     "execution_count": 210,
     "metadata": {},
     "output_type": "execute_result"
    }
   ],
   "source": [
    "df2.head()"
   ]
  }
 ],
 "metadata": {
  "kernelspec": {
   "display_name": "Python 3 (ipykernel)",
   "language": "python",
   "name": "python3"
  },
  "language_info": {
   "codemirror_mode": {
    "name": "ipython",
    "version": 3
   },
   "file_extension": ".py",
   "mimetype": "text/x-python",
   "name": "python",
   "nbconvert_exporter": "python",
   "pygments_lexer": "ipython3",
   "version": "3.8.12"
  }
 },
 "nbformat": 4,
 "nbformat_minor": 5
}
